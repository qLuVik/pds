{
  "cells": [
    {
      "cell_type": "markdown",
      "metadata": {
        "id": "Jyrf8xk3k6Ys"
      },
      "source": [
        "\\# Лабораторная работа к лекции 1\n",
        "Ваше имя: Капранова Виктория\n",
        "\n",
        "Ваш адрес электронной почты: KapranovaVE@mgpu.ru"
      ]
    },
    {
      "cell_type": "markdown",
      "metadata": {
        "id": "86N7viRzk6Yt"
      },
      "source": [
        "## Упражнение 1.1. Типы данных и операции\n",
        "1. Определите две переменные и присвойте первой целое число, а второй — число с плавающей запятой. Определите новую переменную и присвойте сумму двух предыдущих переменных. Каков тип данных третьей переменной?\n",
        "2. Переназначьте переменную с другим типом данных, например, возьмите одну из числовых переменных и присвойте ей строку. Какой новый тип данных?\n",
        "3. Посмотрите, что произойдет, если вы попытаетесь добавить строку к строке.\n",
        "4. Посмотрите, что произойдет, если вы добавите строку к числу с плавающей запятой или целому числу."
      ]
    },
    {
      "cell_type": "code",
      "execution_count": null,
      "metadata": {
        "id": "9ZgZCUPNk6Yt",
        "colab": {
          "base_uri": "https://localhost:8080/"
        },
        "outputId": "c397bcef-3b24-44f9-9217-aab37e771393"
      },
      "outputs": [
        {
          "output_type": "stream",
          "name": "stdout",
          "text": [
            "71.7 <class 'float'>\n",
            "hello <class 'str'>\n",
            "hello, world <class 'str'>\n",
            "Произошла ошибка: can only concatenate str (not \"float\") to str\n"
          ]
        }
      ],
      "source": [
        "a = 5\n",
        "b = 66.7\n",
        "c = a+b\n",
        "print(c,type(c))\n",
        "\n",
        "a = 'hello'\n",
        "print(a,type(a))\n",
        "\n",
        "d = ', world'\n",
        "print(a+d, type(a+d))\n",
        "\n",
        "try:\n",
        "    a+b\n",
        "except Exception as m:\n",
        "    print(\"Произошла ошибка:\", m)"
      ]
    },
    {
      "cell_type": "markdown",
      "metadata": {
        "id": "ZMoobyT-k6Yu"
      },
      "source": [
        "## Упражнение 1.2. Запуск программ\n",
        "\n",
        "  * Создайте новый файл Python(или файл с расширением `.ipynb`) и используйте функцию `double_number` в качестве шаблона. Измените код, чтобы добавить два числа вместо удвоения одного числа.\n",
        "  * Можете ли вы догадаться, что произойдет, если изменить отступ? Выполните данное действие.\n",
        "  * Попробуйте, что произойдет, если вы напечатаете `a` в самом конце программы. Пояснить, что происходит?\n",
        " [Текст ссылки](https://)"
      ]
    },
    {
      "cell_type": "code",
      "execution_count": 33,
      "metadata": {
        "id": "N2v5UHG1k6Yu",
        "colab": {
          "base_uri": "https://localhost:8080/"
        },
        "outputId": "39fc7aa2-e317-4403-e8ac-ca47f08b3ea2"
      },
      "outputs": [
        {
          "output_type": "stream",
          "name": "stdout",
          "text": [
            "273\n",
            "Ошибка: name 'a' is not defined\n"
          ]
        }
      ],
      "source": [
        "# Ваш код\n",
        "def double_number(a, b):\n",
        "    a+= b\n",
        "    return a\n",
        "print(double_number(7,266))\n",
        "\n",
        "try:\n",
        "    a\n",
        "except Exception as e:\n",
        "    print(\"Ошибка:\", e)\n",
        "\n"
      ]
    },
    {
      "cell_type": "markdown",
      "metadata": {
        "id": "15GtjpzGk6Yu"
      },
      "source": [
        "## Упражнение 1.3. Создание ячеек, выполнение кода\n",
        "\n",
        "1. Создайте новую ячейку кода ниже, где вы определите переменные, содержащие ваше имя, ваш возраст  и вашу специальность.\n",
        "2. Создайте еще одну ячейку, использующую эти переменные, и выведите объединенную строку с указанием вашего имени, специальности и возраста в годах, месяцах и днях (при условии, что сегодня ваш день рождения). Вывод должен выглядеть так:\n",
        "\n",
        "```\n",
        "Имя: Кот-ученый, Специальность: Бизнес-Информатика, Возраст: 18 лет, или 216 месяцев, или 6480 дней..\n",
        "```"
      ]
    },
    {
      "cell_type": "code",
      "source": [
        "name = \"Виктория\"\n",
        "age = 19\n",
        "spec = \"Бизнес-Информатика\"\n",
        "print(f\"Имя: {name}, Специальность: {spec}, Возраст: {age} лет, или {age*12} месяцев, или {age*12*30} дней...\")"
      ],
      "metadata": {
        "id": "NFpbxKnZ1eW2",
        "colab": {
          "base_uri": "https://localhost:8080/"
        },
        "outputId": "bbf4d8c8-f03b-42b4-ccfd-81e4a8e31804"
      },
      "execution_count": 34,
      "outputs": [
        {
          "output_type": "stream",
          "name": "stdout",
          "text": [
            "Имя: Виктория, Специальность: Бизнес-Информатика, Возраст: 19 лет, или 228 месяцев, или 6840 дней...\n"
          ]
        }
      ]
    },
    {
      "cell_type": "markdown",
      "metadata": {
        "id": "bPTBzjXhk6Yu"
      },
      "source": [
        "## Упражнение 1.4: Функции\n",
        "Напишите функцию, которая\n",
        "  * принимает две числовые переменные\n",
        "  * умножает их друг на друга\n",
        "  * делит их на числовую переменную, определенную в области видимости вне функции\n",
        "  * и возвращает результат.\n",
        "\n",
        "Выведите результат функции для трех разных наборов входных переменных."
      ]
    },
    {
      "cell_type": "code",
      "execution_count": 7,
      "metadata": {
        "id": "z7DKIUQCk6Yu",
        "colab": {
          "base_uri": "https://localhost:8080/"
        },
        "outputId": "9e630aec-f116-46a9-cb65-b830c605274b"
      },
      "outputs": [
        {
          "output_type": "stream",
          "name": "stdout",
          "text": [
            "3.0\n",
            "0.0\n",
            "15.5\n"
          ]
        }
      ],
      "source": [
        "n = 7\n",
        "def func(a,b):\n",
        "    return a*b/n\n",
        "print(\n",
        "    func(3,7) , func(-15,0) , func(7, 15.5) , sep=\"\\n\")"
      ]
    },
    {
      "cell_type": "markdown",
      "metadata": {
        "id": "jMYIC7XtuyyE"
      },
      "source": [
        "## Упражнение 1.5*\n",
        "\n",
        "Есть некоторые данные о количестве книг, прочитанных разными людьми, работающими в книжном магазине Владимира. Создайте код Python, который учитывает каждого человека и выводит, сколько книг он прочитал. Если кто-то прочитал 0 книг, выведите «___ не читал ни одной книги!» вместо количества книг."
      ]
    },
    {
      "cell_type": "code",
      "execution_count": 23,
      "metadata": {
        "id": "_Q8q-ck0uyyE"
      },
      "outputs": [],
      "source": [
        "people = ['Krishnang', 'Steve', 'Jimmy', 'Mary', 'Divya', 'Robert', 'Yulia']\n",
        "books_read = [12, 6, 0, 7, 4, 10, 15]"
      ]
    },
    {
      "cell_type": "markdown",
      "metadata": {
        "id": "pLIIcRWjuyyF"
      },
      "source": [
        "Существует несколько способов решить эту задачу: можно изучить функцию `zip()`, использовать `enumerate()`, `range` и `len` или использовать другие методы. Чтобы напечатать имена и значения, вы можете использовать конкатенацию строк (+), форматирование f-строки или другие методы."
      ]
    },
    {
      "cell_type": "code",
      "execution_count": 24,
      "metadata": {
        "id": "qW7vjOstuyyF",
        "colab": {
          "base_uri": "https://localhost:8080/"
        },
        "outputId": "7eb68e14-34f2-472f-c9b4-a25367bc08b1"
      },
      "outputs": [
        {
          "output_type": "stream",
          "name": "stdout",
          "text": [
            "Krishnang прочитал 12 книг!\n",
            "Steve прочитал 6 книг!\n",
            "Jimmy не читал ни одной книги!\n",
            "Mary прочитал 7 книг!\n",
            "Divya прочитал 4 книг!\n",
            "Robert прочитал 10 книг!\n",
            "Yulia прочитал 15 книг!\n"
          ]
        }
      ],
      "source": [
        "for b, p in zip(books_read, people):\n",
        "    if b == 0:\n",
        "        print(f'{p} не читал ни одной книги!')\n",
        "    else:\n",
        "        print(f'{p} прочитал {b} книг!')\n"
      ]
    },
    {
      "cell_type": "markdown",
      "metadata": {
        "id": "xQHdovOIuyyF"
      },
      "source": [
        "Преобразуйте только что созданный цикл в функцию, которая принимает два списка (прочитанные книги и людей) в качестве аргументов."
      ]
    },
    {
      "cell_type": "code",
      "execution_count": 26,
      "metadata": {
        "id": "zXaaql_RuyyG",
        "colab": {
          "base_uri": "https://localhost:8080/"
        },
        "outputId": "4715be7e-f984-4e9c-aa4e-a2724a46be9c"
      },
      "outputs": [
        {
          "output_type": "stream",
          "name": "stdout",
          "text": [
            "Krishnang прочитал 12 книг!\n",
            "Steve прочитал 6 книг!\n",
            "Jimmy не читал ни одной книги!\n",
            "Mary прочитал 7 книг!\n",
            "Divya прочитал 4 книг!\n",
            "Robert прочитал 10 книг!\n",
            "Yulia прочитал 15 книг!\n"
          ]
        }
      ],
      "source": [
        "def print_books_read(books, people):\n",
        "    for b, p in zip(books, people):\n",
        "        if b == 0:\n",
        "            print(f'{p} не читал ни одной книги!')\n",
        "        else:\n",
        "            print(f'{p} прочитал {b} книг!')\n",
        "\n",
        "\n",
        "print_books_read(books_read, people)"
      ]
    },
    {
      "cell_type": "markdown",
      "metadata": {
        "id": "stc0LGJeuyyG"
      },
      "source": [
        "Отсортируйте значения `books_read` от большего к меньшему и выведите трех первых людей с количеством прочитанных ими книг. Некоторые возможные способы решения этой задачи включают использование сортировки аргументов `NumPy`, создание словаря и создание кортежей."
      ]
    },
    {
      "cell_type": "code",
      "execution_count": 30,
      "metadata": {
        "id": "THfhf15euyyG"
      },
      "outputs": [],
      "source": [
        "sort_read = [(b, p) for b, p in zip(books_read, people)]"
      ]
    },
    {
      "cell_type": "code",
      "source": [
        "sorted(sort_read, reverse=True)"
      ],
      "metadata": {
        "colab": {
          "base_uri": "https://localhost:8080/"
        },
        "id": "LwzUC0pBRLsa",
        "outputId": "a2a723b4-dfea-430b-e48c-82642475ea91"
      },
      "execution_count": 31,
      "outputs": [
        {
          "output_type": "execute_result",
          "data": {
            "text/plain": [
              "[(15, 'Yulia'),\n",
              " (12, 'Krishnang'),\n",
              " (10, 'Robert'),\n",
              " (7, 'Mary'),\n",
              " (6, 'Steve'),\n",
              " (4, 'Divya'),\n",
              " (0, 'Jimmy')]"
            ]
          },
          "metadata": {},
          "execution_count": 31
        }
      ]
    },
    {
      "cell_type": "code",
      "source": [
        "for b, p in sorted(sort_read, reverse=True)[:3]:\n",
        "    print(f'{p} прочитал {b} книг!')"
      ],
      "metadata": {
        "colab": {
          "base_uri": "https://localhost:8080/"
        },
        "id": "ixC5zwatSDb-",
        "outputId": "88681fbd-6e9a-4f88-cab8-99a8cdcb41a3"
      },
      "execution_count": 32,
      "outputs": [
        {
          "output_type": "stream",
          "name": "stdout",
          "text": [
            "Yulia прочитал 15 книг!\n",
            "Krishnang прочитал 12 книг!\n",
            "Robert прочитал 10 книг!\n"
          ]
        }
      ]
    }
  ],
  "metadata": {
    "colab": {
      "provenance": []
    },
    "kernelspec": {
      "display_name": "Python 3 (ipykernel)",
      "language": "python",
      "name": "python3"
    },
    "language_info": {
      "codemirror_mode": {
        "name": "ipython",
        "version": 3
      },
      "file_extension": ".py",
      "mimetype": "text/x-python",
      "name": "python",
      "nbconvert_exporter": "python",
      "pygments_lexer": "ipython3",
      "version": "3.9.13"
    }
  },
  "nbformat": 4,
  "nbformat_minor": 0
}